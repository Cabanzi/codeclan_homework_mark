{
 "cells": [
  {
   "cell_type": "markdown",
   "id": "70b00f7c",
   "metadata": {},
   "source": [
    "1. Load in the dataset (starbucks_drinkMenu_expanded.csv), calling it drinks_content, and      then briefly explore it, printing out: first 5 rows, last 5 rows, and then all of the      data. Find out the dimensions of the data (number of rows and columns) and the column      names."
   ]
  },
  {
   "cell_type": "code",
   "execution_count": 1,
   "id": "94a2159b",
   "metadata": {},
   "outputs": [],
   "source": [
    "import pandas as pd"
   ]
  },
  {
   "cell_type": "code",
   "execution_count": null,
   "id": "a8e0a607",
   "metadata": {},
   "outputs": [],
   "source": [
    "drinks_content = pd.read_csv(\"data/\")"
   ]
  }
 ],
 "metadata": {
  "kernelspec": {
   "display_name": "Python 3 (ipykernel)",
   "language": "python",
   "name": "python3"
  },
  "language_info": {
   "codemirror_mode": {
    "name": "ipython",
    "version": 3
   },
   "file_extension": ".py",
   "mimetype": "text/x-python",
   "name": "python",
   "nbconvert_exporter": "python",
   "pygments_lexer": "ipython3",
   "version": "3.10.9"
  }
 },
 "nbformat": 4,
 "nbformat_minor": 5
}
