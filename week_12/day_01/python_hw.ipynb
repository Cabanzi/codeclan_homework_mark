{
 "cells": [
  {
   "cell_type": "markdown",
   "id": "ad8e4d0c",
   "metadata": {},
   "source": [
    "__Question 1__\n",
    "\n",
    "Create a list with the following data, and assign it to a variable named shopping: 'spam' 'ham' 'eggs' 'ham'\n",
    "\n",
    "Then do the following:\n",
    "1. Extract the second element of the list.\n",
    "2. Extract the first to third (inclusive) element of the list.\n",
    "3. Extract only the last element of the list."
   ]
  },
  {
   "cell_type": "code",
   "execution_count": 7,
   "id": "fcce8435",
   "metadata": {},
   "outputs": [],
   "source": [
    "shopping = ['spam', 'ham', 'eggs', 'ham']"
   ]
  },
  {
   "cell_type": "code",
   "execution_count": 9,
   "id": "c18aa8e1",
   "metadata": {},
   "outputs": [
    {
     "data": {
      "text/plain": [
       "'ham'"
      ]
     },
     "execution_count": 9,
     "metadata": {},
     "output_type": "execute_result"
    }
   ],
   "source": [
    "shopping[1]"
   ]
  },
  {
   "cell_type": "code",
   "execution_count": 11,
   "id": "9e02724c",
   "metadata": {},
   "outputs": [
    {
     "data": {
      "text/plain": [
       "['spam', 'ham', 'eggs']"
      ]
     },
     "execution_count": 11,
     "metadata": {},
     "output_type": "execute_result"
    }
   ],
   "source": [
    "shopping[0:3]"
   ]
  },
  {
   "cell_type": "code",
   "execution_count": 13,
   "id": "4870a1bf",
   "metadata": {},
   "outputs": [
    {
     "data": {
      "text/plain": [
       "'ham'"
      ]
     },
     "execution_count": 13,
     "metadata": {},
     "output_type": "execute_result"
    }
   ],
   "source": [
    "shopping[-1]"
   ]
  },
  {
   "cell_type": "markdown",
   "id": "54c055e9",
   "metadata": {},
   "source": [
    "__Question 2__\n",
    "\n",
    "Set up a list with the following elements:\n",
    "stops = [\"Croy\", \"Cumbernauld\", \"Falkirk High\", \"Linlithgow\", \"Livingston\", \"Haymarket\"]\n",
    "\n",
    "Perform the following:\n",
    "1. Append Edinburgh Waverley to the end of the list\n",
    "2. Add \"Queen Street\" to the start of the list\n",
    "3. Find out what index \"Croy\" is at in the list\n",
    "4. Add \"Polmont\" at the appropriate point (between \"Falkirk High\" and \"Linlithgow\")\n",
    "5. Remove \"Haymarket\" from the list of stops\n",
    "6. Remove all items from stops\n",
    "\n",
    "Hint: Some of these methods will change the original object stops. If you make any unwanted changes and want to go back to the original object you can re-run the code chunks where we created the object stops and then appended \"Edinburgh Waverley\"."
   ]
  },
  {
   "cell_type": "code",
   "execution_count": null,
   "id": "ce96d7e2",
   "metadata": {},
   "outputs": [],
   "source": [
    "stops = [\"Croy\", \"Cumbernauld\", \"Falkirk High\", \"Linlithgow\", \"Livingston\", \"Haymarket\"]"
   ]
  },
  {
   "cell_type": "code",
   "execution_count": null,
   "id": "1edc1391",
   "metadata": {},
   "outputs": [],
   "source": [
    "stops.append(\"Edinburgh Waverly\")"
   ]
  },
  {
   "cell_type": "code",
   "execution_count": 18,
   "id": "c984c254",
   "metadata": {},
   "outputs": [
    {
     "data": {
      "text/plain": [
       "1"
      ]
     },
     "execution_count": 18,
     "metadata": {},
     "output_type": "execute_result"
    }
   ],
   "source": [
    "stops.insert(0,\"Queen Street\")"
   ]
  },
  {
   "cell_type": "code",
   "execution_count": 19,
   "id": "a627a5f2",
   "metadata": {},
   "outputs": [
    {
     "data": {
      "text/plain": [
       "1"
      ]
     },
     "execution_count": 19,
     "metadata": {},
     "output_type": "execute_result"
    }
   ],
   "source": [
    "stops_idex = stops.index(\"Croy\")\n",
    "\n",
    "stops_idex"
   ]
  },
  {
   "cell_type": "code",
   "execution_count": 30,
   "id": "51e88f9d",
   "metadata": {},
   "outputs": [
    {
     "data": {
      "text/plain": [
       "[]"
      ]
     },
     "execution_count": 30,
     "metadata": {},
     "output_type": "execute_result"
    }
   ],
   "source": [
    "stops"
   ]
  },
  {
   "cell_type": "code",
   "execution_count": 22,
   "id": "341880e6",
   "metadata": {},
   "outputs": [],
   "source": [
    "stops.insert(4, \"Polmont\")"
   ]
  },
  {
   "cell_type": "code",
   "execution_count": 26,
   "id": "d201232b",
   "metadata": {},
   "outputs": [
    {
     "ename": "ValueError",
     "evalue": "list.remove(x): x not in list",
     "output_type": "error",
     "traceback": [
      "\u001b[0;31m---------------------------------------------------------------------------\u001b[0m",
      "\u001b[0;31mValueError\u001b[0m                                Traceback (most recent call last)",
      "Cell \u001b[0;32mIn[26], line 1\u001b[0m\n\u001b[0;32m----> 1\u001b[0m \u001b[43mstops\u001b[49m\u001b[38;5;241;43m.\u001b[39;49m\u001b[43mremove\u001b[49m\u001b[43m(\u001b[49m\u001b[38;5;124;43m\"\u001b[39;49m\u001b[38;5;124;43mHaymarket\u001b[39;49m\u001b[38;5;124;43m\"\u001b[39;49m\u001b[43m)\u001b[49m\n",
      "\u001b[0;31mValueError\u001b[0m: list.remove(x): x not in list"
     ]
    }
   ],
   "source": [
    "stops.remove(\"Haymarket\")"
   ]
  },
  {
   "cell_type": "code",
   "execution_count": 31,
   "id": "0282a516",
   "metadata": {},
   "outputs": [],
   "source": [
    "stops.clear()"
   ]
  },
  {
   "cell_type": "markdown",
   "id": "d6ee1958",
   "metadata": {},
   "source": [
    "__Question 3__\n",
    "\n",
    "Set up the following dictionary:\n",
    "person = {\"name\": \"Steph\", \"age\": 31, \"Instructor\" : True}\n",
    "\n",
    "Do the following:\n",
    "1. Return the keys, values and items from this dictionary\n",
    "2. Take out only the name from it\n",
    "3. Add a new key:value pair, which adds the email \"steph@codeclan.com\" to the dictionary\n",
    "4. Delete the job description from the dictionary (Hint: look up the del function)"
   ]
  },
  {
   "cell_type": "code",
   "execution_count": 41,
   "id": "de5cec52",
   "metadata": {},
   "outputs": [],
   "source": [
    "person = {\"name\": \"Steph\", \"age\": 31, \"Instructor\" : True}"
   ]
  },
  {
   "cell_type": "code",
   "execution_count": 42,
   "id": "fe8007d3",
   "metadata": {},
   "outputs": [
    {
     "name": "stdout",
     "output_type": "stream",
     "text": [
      "Keys: dict_keys(['name', 'age', 'Instructor'])\n"
     ]
    }
   ],
   "source": [
    "keys = person.keys()\n",
    "print(\"Keys:\", keys)"
   ]
  },
  {
   "cell_type": "code",
   "execution_count": 43,
   "id": "6480eb1a",
   "metadata": {},
   "outputs": [
    {
     "name": "stdout",
     "output_type": "stream",
     "text": [
      "Values: dict_values(['Steph', 31, True])\n"
     ]
    }
   ],
   "source": [
    "values = person.values()\n",
    "print(\"Values:\", values)"
   ]
  },
  {
   "cell_type": "code",
   "execution_count": 44,
   "id": "4fc24e06",
   "metadata": {},
   "outputs": [
    {
     "name": "stdout",
     "output_type": "stream",
     "text": [
      "Items: dict_items([('name', 'Steph'), ('age', 31), ('Instructor', True)])\n"
     ]
    }
   ],
   "source": [
    "items = person.items()\n",
    "print(\"Items:\", items)"
   ]
  },
  {
   "cell_type": "code",
   "execution_count": 45,
   "id": "5514ef50",
   "metadata": {},
   "outputs": [
    {
     "data": {
      "text/plain": [
       "'Steph'"
      ]
     },
     "execution_count": 45,
     "metadata": {},
     "output_type": "execute_result"
    }
   ],
   "source": [
    "person.pop(\"name\")"
   ]
  },
  {
   "cell_type": "code",
   "execution_count": 46,
   "id": "968531d4",
   "metadata": {},
   "outputs": [],
   "source": [
    "person.update({\"email\" : [\"steph@codeclan.com\"] })"
   ]
  },
  {
   "cell_type": "code",
   "execution_count": 47,
   "id": "a68a43fb",
   "metadata": {},
   "outputs": [
    {
     "data": {
      "text/plain": [
       "{'age': 31, 'Instructor': True, 'email': ['steph@codeclan.com']}"
      ]
     },
     "execution_count": 47,
     "metadata": {},
     "output_type": "execute_result"
    }
   ],
   "source": [
    "person"
   ]
  },
  {
   "cell_type": "code",
   "execution_count": 50,
   "id": "ff5e65fd",
   "metadata": {},
   "outputs": [
    {
     "ename": "AttributeError",
     "evalue": "'dict' object has no attribute 'delete'",
     "output_type": "error",
     "traceback": [
      "\u001b[0;31m---------------------------------------------------------------------------\u001b[0m",
      "\u001b[0;31mAttributeError\u001b[0m                            Traceback (most recent call last)",
      "Cell \u001b[0;32mIn[50], line 1\u001b[0m\n\u001b[0;32m----> 1\u001b[0m \u001b[43mperson\u001b[49m\u001b[38;5;241;43m.\u001b[39;49m\u001b[43mdelete\u001b[49m(\u001b[38;5;124m\"\u001b[39m\u001b[38;5;124mInstructor\u001b[39m\u001b[38;5;124m\"\u001b[39m)\n",
      "\u001b[0;31mAttributeError\u001b[0m: 'dict' object has no attribute 'delete'"
     ]
    }
   ],
   "source": [
    "person.del(\"Instructor\")"
   ]
  },
  {
   "cell_type": "markdown",
   "id": "a16456dd",
   "metadata": {},
   "source": [
    "__Question 4__ \n",
    "\n",
    "For the following list of numbers:\n",
    "numbers = [1, 6, 2, 2, 7, 1, 6, 13, 99, 7]\n",
    "\n",
    "1. Print out a list of the even integers:\n",
    "2. Print the difference between the largest and smallest value:\n",
    "3. Print True if the list contains a 2 next to a 2 somewhere.\n",
    "4. Print the sum of the numbers, BUT ignore any section of numbers starting with a 6 and extending to the next 7.      So [11, 6, 4, 99, 7, 11] would have sum of 22"
   ]
  },
  {
   "cell_type": "code",
   "execution_count": 77,
   "id": "86e5533f",
   "metadata": {},
   "outputs": [],
   "source": [
    "numbers = [1, 6, 2, 2, 7, 1, 6, 13, 99, 7]"
   ]
  },
  {
   "cell_type": "code",
   "execution_count": 78,
   "id": "dbd57f9f",
   "metadata": {},
   "outputs": [
    {
     "name": "stdout",
     "output_type": "stream",
     "text": [
      "Even Integers: [6, 2, 2, 6]\n"
     ]
    }
   ],
   "source": [
    "even_numbers = [num for num in numbers if num % 2 == 0]\n",
    "print(\"Even Integers:\", even_numbers)"
   ]
  },
  {
   "cell_type": "code",
   "execution_count": 79,
   "id": "fe93bc5f",
   "metadata": {},
   "outputs": [
    {
     "name": "stdout",
     "output_type": "stream",
     "text": [
      "Difference between largest and smallest value: 98\n"
     ]
    }
   ],
   "source": [
    "difference = max(numbers) - min(numbers)\n",
    "print(\"Difference between largest and smallest value:\", difference)"
   ]
  },
  {
   "cell_type": "code",
   "execution_count": 80,
   "id": "233dc655",
   "metadata": {},
   "outputs": [
    {
     "name": "stdout",
     "output_type": "stream",
     "text": [
      "True\n"
     ]
    }
   ],
   "source": [
    "for i in range(len(numbers) - 1): \n",
    "     if numbers[i] == numbers[i + 1] == 2:\n",
    "      print(\"True\")"
   ]
  },
  {
   "cell_type": "code",
   "execution_count": 101,
   "id": "e62dc57e",
   "metadata": {},
   "outputs": [
    {
     "name": "stdout",
     "output_type": "stream",
     "text": [
      "2\n"
     ]
    }
   ],
   "source": [
    "sum_numbers = 0\n",
    "for num in numbers:\n",
    "    if num == 6:\n",
    "        ignore_section = True \n",
    "    elif num == 7:\n",
    "        ignore_section = False\n",
    "    elif not ignore_section:\n",
    "        sum_numbers += num\n",
    "print(sum_numbers)"
   ]
  },
  {
   "cell_type": "markdown",
   "id": "eb540b14",
   "metadata": {},
   "source": [
    "__Question 5__\n",
    "Write a conditional that takes in two inputs :\n",
    "\n",
    "- python_is_fun = True\n",
    "- python_is_weird = True\n",
    "\n",
    "We want to print \"Woo Python!\" if either python_is_fun is true OR python_is_weird is true OR both python_is_fun and python_is_weird are true. Otherwise, print \"Python is not for me!\". Make sure you test all the combinations."
   ]
  },
  {
   "cell_type": "code",
   "execution_count": 103,
   "id": "20f6723b",
   "metadata": {},
   "outputs": [
    {
     "name": "stdout",
     "output_type": "stream",
     "text": [
      "Woo Python!\n"
     ]
    }
   ],
   "source": [
    "python_is_fun = True\n",
    "python_is_weird = True\n",
    "\n",
    "if python_is_fun or python_is_weird:\n",
    "    print(\"Woo Python!\")\n",
    "else:\n",
    "    print(\"Python is not for me!\")"
   ]
  },
  {
   "cell_type": "markdown",
   "id": "9dc55741",
   "metadata": {},
   "source": [
    "__Question 6__\n",
    "\n",
    "We have a list of chickens and the farmer would like to go through all the chickens, collecting the eggs and getting the total number of eggs collected.\n",
    "\n",
    "chickens = [\n",
    "  { \"name\": \"Margaret\", \"age\": 2, \"eggs\": 0 },\n",
    "  { \"name\": \"Hetty\", \"age\": 1, \"eggs\": 2 },\n",
    "  { \"name\": \"Henrietta\", \"age\": 3, \"eggs\": 1 },\n",
    "  { \"name\": \"Audrey\", \"age\": 2, \"eggs\": 0 },\n",
    "  { \"name\": \"Mabel\", \"age\": 5, \"eggs\": 1 },\n",
    "]\n",
    "\n",
    "To write this as a loop, we'd do something like this:\n",
    "total_eggs = 0\n",
    "for chicken in chickens:\n",
    "    total_eggs += chicken[\"eggs\"]\n",
    "    chicken[\"eggs\"] = 0 # eggs have been collected\n",
    "print(f\"{total_eggs} eggs collected\")\n",
    "\n",
    "Instead, we want to define a function which passes in a list, so that if we wanted to count eggs of a different list of chickens from another farm, we can use the same function, just pass in a different list.\n",
    "We also want to return the string at the end, instead of using print."
   ]
  },
  {
   "cell_type": "code",
   "execution_count": 104,
   "id": "926bfb31",
   "metadata": {},
   "outputs": [],
   "source": [
    "chickens = [ { \"name\": \"Margaret\", \"age\": 2, \"eggs\": 0 }, { \"name\": \"Hetty\", \"age\": 1, \"eggs\": 2 }, { \"name\": \"Henrietta\", \"age\": 3, \"eggs\": 1 }, { \"name\": \"Audrey\", \"age\": 2, \"eggs\": 0 }, { \"name\": \"Mabel\", \"age\": 5, \"eggs\": 1 }, ]"
   ]
  },
  {
   "cell_type": "code",
   "execution_count": 105,
   "id": "ca9598fe",
   "metadata": {},
   "outputs": [],
   "source": [
    "def count_eggs(chickens):\n",
    "    total_eggs = 0\n",
    "    for chicken in chickens:\n",
    "        total_eggs += chicken[\"eggs\"]\n",
    "        chicken[\"eggs\"] = 0  # eggs have been collected\n",
    "    return f\"{total_eggs} eggs collected\""
   ]
  },
  {
   "cell_type": "code",
   "execution_count": 106,
   "id": "6d2e78bc",
   "metadata": {},
   "outputs": [
    {
     "data": {
      "text/plain": [
       "'4 eggs collected'"
      ]
     },
     "execution_count": 106,
     "metadata": {},
     "output_type": "execute_result"
    }
   ],
   "source": [
    "count_eggs(chickens)"
   ]
  }
 ],
 "metadata": {
  "kernelspec": {
   "display_name": "Python 3 (ipykernel)",
   "language": "python",
   "name": "python3"
  },
  "language_info": {
   "codemirror_mode": {
    "name": "ipython",
    "version": 3
   },
   "file_extension": ".py",
   "mimetype": "text/x-python",
   "name": "python",
   "nbconvert_exporter": "python",
   "pygments_lexer": "ipython3",
   "version": "3.10.9"
  }
 },
 "nbformat": 4,
 "nbformat_minor": 5
}
